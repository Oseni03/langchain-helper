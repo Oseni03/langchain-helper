{
 "cells": [
  {
   "cell_type": "code",
   "execution_count": null,
   "id": "67444ddb",
   "metadata": {},
   "outputs": [],
   "source": [
    "from langchain.agents import create_pandas_dataframe_agent\n",
    "from langchain.chat_models import ChatOpenAI\n",
    "from langchain.agents.agent_types import AgentType\n",
    "from langchain.llms import OpenAI"
   ]
  },
  {
   "cell_type": "code",
   "execution_count": null,
   "id": "32ce7a37",
   "metadata": {},
   "outputs": [],
   "source": [
    "import pandas as pd"
   ]
  },
  {
   "cell_type": "markdown",
   "id": "c09015d8",
   "metadata": {},
   "source": [
    "# Get dataframe"
   ]
  },
  {
   "cell_type": "code",
   "execution_count": null,
   "id": "fb1aba9e",
   "metadata": {},
   "outputs": [],
   "source": [
    "def get_df(dtype, filepath):\n",
    "    if dtype == \"csv\":\n",
    "        df = pd.read_csv(filepath, sheet_name)\n",
    "    elif dtype == \"excel\":\n",
    "        df = pd.read_excel(filepath, sheet_name)\n",
    "    elif dtype == \"json\":\n",
    "        df = pd.read_json(filepath)\n",
    "    return df"
   ]
  },
  {
   "cell_type": "markdown",
   "id": "66d7d8c7",
   "metadata": {},
   "source": [
    "# Initialize the agent using the OPENAI_FUNCTIONS agent type"
   ]
  },
  {
   "cell_type": "code",
   "execution_count": null,
   "id": "9092cbdd",
   "metadata": {},
   "outputs": [],
   "source": [
    "def get_agent(*args):\n",
    "    \"\"\"args = [df1, df2]\"\"\"\n",
    "    agent = create_pandas_dataframe_agent(\n",
    "        ChatOpenAI(temperature=0, model=\"gpt-3.5-turbo-0613\"),\n",
    "        args,\n",
    "        verbose=True,\n",
    "        agent_type=AgentType.OPENAI_FUNCTIONS,\n",
    "    )\n",
    "    return agent \n",
    "\n",
    "agent = get_agent([df1, df2])\n",
    "agent.run(\"how many rows in the age column are different?\")"
   ]
  }
 ],
 "metadata": {
  "kernelspec": {
   "display_name": "Python 3 (ipykernel)",
   "language": "python",
   "name": "python3"
  },
  "language_info": {
   "codemirror_mode": {
    "name": "ipython",
    "version": 3
   },
   "file_extension": ".py",
   "mimetype": "text/x-python",
   "name": "python",
   "nbconvert_exporter": "python",
   "pygments_lexer": "ipython3",
   "version": "3.11.4"
  }
 },
 "nbformat": 4,
 "nbformat_minor": 5
}

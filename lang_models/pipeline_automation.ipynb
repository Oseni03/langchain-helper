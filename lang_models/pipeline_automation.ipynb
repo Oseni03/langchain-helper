{
 "cells": [
  {
   "cell_type": "code",
   "execution_count": null,
   "id": "5d14fff3",
   "metadata": {},
   "outputs": [],
   "source": [
    "#import needed libraries\n",
    "from sqlalchemy import create_engine\n",
    "import pandasai as pdai\n",
    "import os\n",
    "from sqlalchemy.engine import URL"
   ]
  },
  {
   "cell_type": "code",
   "execution_count": null,
   "id": "4ba19f12",
   "metadata": {},
   "outputs": [],
   "source": [
    "#extract data from sql server \n",
    "def get_conn(self, server_type, **kwargs):\n",
    "    \"\"\"\n",
    "    tbl_name -> table name \n",
    "    \"\"\"\n",
    "    try:\n",
    "        if server_type == \"drizzle\":\n",
    "            connection_url = URL.create(f\"drizzle+mysqldb://{kwargs[\"user\"]}:{kwargs[\"password\"]}@{kwargs[\"host\"]}:{kwargs[\"port\"]}/{kwargs[\"dbname\"]}\")\n",
    "        elif server_type == \"mssql\":\n",
    "            connection_string = 'DRIVER=' + driver + ';SERVER=' + server + ';DATABASE=' + database + ';UID=' + uid + ';PWD=' + pwd\n",
    "            connection_url = URL.create(\"mssql+pyodbc\", query={\"odbc_connect\": connection_string})\n",
    "        elif server_type == \"mysql\":\n",
    "            # OR \"mysql+mysqlconnector\"\n",
    "            connection_url = URL.create(f\"mysql+mysqldb://{kwargs[\"user\"]}:{kwargs[\"password\"]}@{kwargs[\"host\"]}:{kwargs[\"port\"]}/{kwargs[\"dbname\"]}\")\n",
    "        elif server_type == \"oracle\":\n",
    "            connection_url = URL.create(f\"oracle+cx_oracle://{kwargs[\"user\"]}:{kwargs[\"password\"]}@{kwargs[\"host\"]}:{kwargs[\"port\"]}/{kwargs[\"dbname\"]}\")\n",
    "        elif server_type == \"postgresql\":\n",
    "            connection_url = URL.create(f\"postgresql+psycopg2:://{kwargs[\"user\"]}:{kwargs[\"password\"]}@{kwargs[\"host\"]}:{kwargs[\"port\"]}/{kwargs[\"dbname\"]}\")\n",
    "        return src_conn = create_engine(connection_url)\n",
    "    except Exception as e:\n",
    "        print(\"Connection error: \" + str(e))\n",
    "        "
   ]
  },
  {
   "cell_type": "code",
   "execution_count": null,
   "id": "74c68525",
   "metadata": {},
   "outputs": [],
   "source": [
    "def extract(self, conn, tbl_name):\n",
    "    \"\"\"\n",
    "    tbl_name -> table name \n",
    "    \"\"\"\n",
    "    df = pdai.read_sql_query(f'SELECT * FROM {tbl_name}', conn)\n",
    "    return df"
   ]
  },
  {
   "cell_type": "code",
   "execution_count": null,
   "id": "ee8a9c9e",
   "metadata": {},
   "outputs": [],
   "source": [
    "# Use pandasai to clean the data\n",
    "def transform(self, df):\n",
    "    return pdai.clean_data(df)"
   ]
  },
  {
   "cell_type": "code",
   "execution_count": null,
   "id": "ee05841c",
   "metadata": {},
   "outputs": [],
   "source": [
    "# load data to postgres\n",
    "def load(self, tbl_name, df, conn):\n",
    "    \"\"\"\n",
    "    load cleaned data into a target database connection  \n",
    "    tbl_name -> table name \n",
    "    \"\"\"\n",
    "    try:\n",
    "        rows_imported = 0\n",
    "        print(f'importing rows {rows_imported} to {rows_imported + len(df)}... for table {tbl_name}')\n",
    "        # save df to postgres\n",
    "        df.to_sql(f'stg_{tbl_name}', conn, if_exists='replace', index=False)\n",
    "        rows_imported += len(df)\n",
    "        # add elapsed time to final print out\n",
    "        print(\"Data imported successful\")\n",
    "    except Exception as e:\n",
    "        print(\"Data load error: \" + str(e))\n",
    "        "
   ]
  }
 ],
 "metadata": {
  "kernelspec": {
   "display_name": "Python 3 (ipykernel)",
   "language": "python",
   "name": "python3"
  },
  "language_info": {
   "codemirror_mode": {
    "name": "ipython",
    "version": 3
   },
   "file_extension": ".py",
   "mimetype": "text/x-python",
   "name": "python",
   "nbconvert_exporter": "python",
   "pygments_lexer": "ipython3",
   "version": "3.11.4"
  }
 },
 "nbformat": 4,
 "nbformat_minor": 5
}

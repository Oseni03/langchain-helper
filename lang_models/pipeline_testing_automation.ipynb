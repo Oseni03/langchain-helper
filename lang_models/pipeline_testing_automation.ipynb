{
 "cells": [
  {
   "cell_type": "code",
   "execution_count": null,
   "id": "4ec96c4c",
   "metadata": {},
   "outputs": [],
   "source": [
    "import pandas as pd\n",
    "import numpy as np\n",
    "import pytest\n",
    "from numpy import nan"
   ]
  },
  {
   "cell_type": "code",
   "execution_count": null,
   "id": "cd21fd62",
   "metadata": {},
   "outputs": [],
   "source": [
    "@pytest.fixture\n",
    "def df():\n",
    "    df = pd.read_excel(r'D:\\data\\Product.xlsx')\n",
    "    return df"
   ]
  },
  {
   "cell_type": "code",
   "execution_count": null,
   "id": "22cd8a6b",
   "metadata": {},
   "outputs": [],
   "source": [
    "# check if column exists\n",
    "def test_col_exists(df, column):\n",
    "    assert column in df.columns"
   ]
  },
  {
   "cell_type": "code",
   "execution_count": null,
   "id": "5bd8c84d",
   "metadata": {},
   "outputs": [],
   "source": [
    "# check for nulls\n",
    "def test_null_check(df):\n",
    "    columns = list(df.columns)\n",
    "    for column in columns:\n",
    "        assert df[column].notnull().all()"
   ]
  },
  {
   "cell_type": "code",
   "execution_count": null,
   "id": "a861d1db",
   "metadata": {},
   "outputs": [],
   "source": [
    "# check values are unique\n",
    "def test_unique_check(df):\n",
    "    columns = list(df.columns)\n",
    "    for column in columns:\n",
    "        assert pd.Series(df[column]).is_unique"
   ]
  },
  {
   "cell_type": "code",
   "execution_count": null,
   "id": "26262aab",
   "metadata": {},
   "outputs": [],
   "source": [
    "# check data type\n",
    "def test_productkey_dtype_int(df, column, data_type):\n",
    "    assert (df[column].dtype == data_type)"
   ]
  },
  {
   "cell_type": "code",
   "execution_count": null,
   "id": "c29aca2a",
   "metadata": {},
   "outputs": [],
   "source": [
    "# check values in range\n",
    "def test_range_val(df, column, fro, to):\n",
    "    assert df[column].between(fro,to).any()"
   ]
  },
  {
   "cell_type": "code",
   "execution_count": null,
   "id": "45ebc3b0",
   "metadata": {},
   "outputs": [],
   "source": [
    "# check values in a list\n",
    "def test_range_val_str(df):\n",
    "    assert set(df.Color.unique()) == {'NA', 'Black', 'Silver', 'Red', 'White', 'Blue', 'Multi', 'Yellow','Grey', 'Silver/Black'}"
   ]
  }
 ],
 "metadata": {
  "kernelspec": {
   "display_name": "Python 3 (ipykernel)",
   "language": "python",
   "name": "python3"
  },
  "language_info": {
   "codemirror_mode": {
    "name": "ipython",
    "version": 3
   },
   "file_extension": ".py",
   "mimetype": "text/x-python",
   "name": "python",
   "nbconvert_exporter": "python",
   "pygments_lexer": "ipython3",
   "version": "3.11.4"
  }
 },
 "nbformat": 4,
 "nbformat_minor": 5
}

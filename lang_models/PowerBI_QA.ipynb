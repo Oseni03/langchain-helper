{
 "cells": [
  {
   "cell_type": "code",
   "execution_count": null,
   "id": "f88b61b2",
   "metadata": {},
   "outputs": [],
   "source": [
    "!pip install azure-identity."
   ]
  },
  {
   "cell_type": "code",
   "execution_count": null,
   "id": "94974446",
   "metadata": {},
   "outputs": [],
   "source": [
    "from langchain.agents.agent_toolkits import create_pbi_agent\n",
    "from langchain.agents.agent_toolkits import PowerBIToolkit\n",
    "from langchain.utilities.powerbi import PowerBIDataset\n",
    "from langchain.chat_models import ChatOpenAI\n",
    "from langchain.agents import AgentExecutor\n",
    "from azure.identity import DefaultAzureCredential"
   ]
  },
  {
   "cell_type": "code",
   "execution_count": null,
   "id": "5a4618a7",
   "metadata": {},
   "outputs": [],
   "source": [
    "fast_llm = ChatOpenAI(\n",
    "    temperature=0.5, max_tokens=1000, model_name=\"gpt-3.5-turbo\", verbose=True\n",
    ")\n",
    "smart_llm = ChatOpenAI(temperature=0, max_tokens=100, model_name=\"gpt-4\", verbose=True)\n",
    "\n",
    "toolkit = PowerBIToolkit(\n",
    "    powerbi=PowerBIDataset(\n",
    "        dataset_id=\"<dataset_id>\",\n",
    "        table_names=[\"table1\", \"table2\"],\n",
    "        credential=DefaultAzureCredential(),\n",
    "    ),\n",
    "    llm=smart_llm,\n",
    ")\n",
    "\n",
    "agent_executor = create_pbi_agent(\n",
    "    llm=fast_llm,\n",
    "    toolkit=toolkit,\n",
    "    verbose=True,\n",
    ")"
   ]
  },
  {
   "cell_type": "code",
   "execution_count": null,
   "id": "1062a9ab",
   "metadata": {},
   "outputs": [],
   "source": [
    "agent_executor.run(\"How many records are in table1?\")"
   ]
  }
 ],
 "metadata": {
  "kernelspec": {
   "display_name": "Python 3 (ipykernel)",
   "language": "python",
   "name": "python3"
  },
  "language_info": {
   "codemirror_mode": {
    "name": "ipython",
    "version": 3
   },
   "file_extension": ".py",
   "mimetype": "text/x-python",
   "name": "python",
   "nbconvert_exporter": "python",
   "pygments_lexer": "ipython3",
   "version": "3.11.4"
  }
 },
 "nbformat": 4,
 "nbformat_minor": 5
}

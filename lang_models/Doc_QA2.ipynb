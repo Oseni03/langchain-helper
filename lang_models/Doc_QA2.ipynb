{
 "cells": [
  {
   "cell_type": "code",
   "execution_count": null,
   "id": "4211693d",
   "metadata": {},
   "outputs": [],
   "source": [
    "from langchain.document_loaders import UnstructuredPDFLoader, OnlinePDFLoader \n",
    "from langchain.text_splitter import RecursiveCharacterSplitter "
   ]
  },
  {
   "cell_type": "markdown",
   "id": "fe513d60",
   "metadata": {},
   "source": [
    "# # Load data"
   ]
  },
  {
   "cell_type": "code",
   "execution_count": null,
   "id": "199a0e4e",
   "metadata": {},
   "outputs": [],
   "source": [
    "loader = UnstructuredPDFLoader(\"../path/to/pdf\")\n",
    "# loader = OnlinePDFLoader(\"https://link-to-pdf\")"
   ]
  },
  {
   "cell_type": "code",
   "execution_count": null,
   "id": "67310a5c",
   "metadata": {},
   "outputs": [],
   "source": [
    "data = loader.load()"
   ]
  },
  {
   "cell_type": "code",
   "execution_count": null,
   "id": "4de22fdb",
   "metadata": {},
   "outputs": [],
   "source": [
    "print(f\"You have {len(data)} document(s) in your data\")\n",
    "print(f\"There are {len(data[0].page_content)} characters in your document\")"
   ]
  },
  {
   "cell_type": "markdown",
   "id": "9aa77e9d",
   "metadata": {},
   "source": [
    "# Chunk Your Data into smaller doc "
   ]
  },
  {
   "cell_type": "code",
   "execution_count": null,
   "id": "a91c4cbe",
   "metadata": {},
   "outputs": [],
   "source": [
    "text_splitter = RecursiveCharacterSplitter(chunk_size=1000, chunk_overlap=0)\n",
    "texts = text_splitter.split_documents(data)"
   ]
  },
  {
   "cell_type": "markdown",
   "id": "b99e8228",
   "metadata": {},
   "source": [
    "# Create embedding of your documents to get ready for semantic search"
   ]
  },
  {
   "cell_type": "code",
   "execution_count": null,
   "id": "e8414344",
   "metadata": {},
   "outputs": [],
   "source": [
    "from langchain.vectore import Chroma, Pinecone\n",
    "from langchain.embeddings.openai import OpenAIEmbedding\n",
    "import pinecone "
   ]
  },
  {
   "cell_type": "code",
   "execution_count": null,
   "id": "db4bf49a",
   "metadata": {},
   "outputs": [],
   "source": [
    "#initialize pinecone \n",
    "pinecone.init(\n",
    "    api_key=PINECONE_API_KEY_ENV # find at app.pincone.io\n",
    "    environment=PINECONE_API_KEY_ENV # next to api_key in the console\n",
    ")\n",
    "index_name = \"langchain2\" # create in pinecone dashboard "
   ]
  },
  {
   "cell_type": "code",
   "execution_count": null,
   "id": "cbfcc05a",
   "metadata": {},
   "outputs": [],
   "source": [
    "docsearch = Pinecone.from_text([t.page_content for t in texts], embeddings, index_name=index_name)"
   ]
  },
  {
   "cell_type": "markdown",
   "id": "5cd6bc77",
   "metadata": {},
   "source": [
    "# Query those docs to get your answer back"
   ]
  },
  {
   "cell_type": "code",
   "execution_count": null,
   "id": "af9d22c5",
   "metadata": {},
   "outputs": [],
   "source": [
    "from langchain.chains.question_answering import load_qa_chain\n",
    "from langchain.llms import OpenAI \n"
   ]
  },
  {
   "cell_type": "code",
   "execution_count": null,
   "id": "293d6762",
   "metadata": {},
   "outputs": [],
   "source": [
    "llm = OpenAI(temperature=0, openai_api_key=OPENAI_API_KEY)\n",
    "chain = load_qa_chain(llm, chain_type=\"stuff\")"
   ]
  },
  {
   "cell_type": "code",
   "execution_count": null,
   "id": "c461ccb3",
   "metadata": {},
   "outputs": [],
   "source": [
    "query = \"What is data science\"\n",
    "doc = docsearch.similarity_search(query, include_metadata=True)"
   ]
  },
  {
   "cell_type": "code",
   "execution_count": null,
   "id": "5496a97e",
   "metadata": {},
   "outputs": [],
   "source": [
    "chain.run(input_document=doc, question=query)"
   ]
  }
 ],
 "metadata": {
  "kernelspec": {
   "display_name": "Python 3 (ipykernel)",
   "language": "python",
   "name": "python3"
  },
  "language_info": {
   "codemirror_mode": {
    "name": "ipython",
    "version": 3
   },
   "file_extension": ".py",
   "mimetype": "text/x-python",
   "name": "python",
   "nbconvert_exporter": "python",
   "pygments_lexer": "ipython3",
   "version": "3.11.4"
  }
 },
 "nbformat": 4,
 "nbformat_minor": 5
}

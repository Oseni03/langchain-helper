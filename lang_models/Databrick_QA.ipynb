{
 "cells": [
  {
   "cell_type": "code",
   "execution_count": 1,
   "id": "3b9b6ffc",
   "metadata": {},
   "outputs": [
    {
     "ename": "ModuleNotFoundError",
     "evalue": "No module named 'langchain'",
     "output_type": "error",
     "traceback": [
      "\u001b[0;31m---------------------------------------------------------------------------\u001b[0m",
      "\u001b[0;31mModuleNotFoundError\u001b[0m                       Traceback (most recent call last)",
      "Cell \u001b[0;32mIn[1], line 2\u001b[0m\n\u001b[1;32m      1\u001b[0m \u001b[38;5;28;01mimport\u001b[39;00m \u001b[38;5;21;01mjson\u001b[39;00m\n\u001b[0;32m----> 2\u001b[0m \u001b[38;5;28;01mfrom\u001b[39;00m \u001b[38;5;21;01mlangchain\u001b[39;00m\u001b[38;5;21;01m.\u001b[39;00m\u001b[38;5;21;01mtext_splitter\u001b[39;00m \u001b[38;5;28;01mimport\u001b[39;00m TokenTextSplitter\n\u001b[1;32m      3\u001b[0m \u001b[38;5;28;01mfrom\u001b[39;00m \u001b[38;5;21;01mlangchain\u001b[39;00m\u001b[38;5;21;01m.\u001b[39;00m\u001b[38;5;21;01membedding\u001b[39;00m\u001b[38;5;21;01m.\u001b[39;00m\u001b[38;5;21;01mopenai\u001b[39;00m \u001b[38;5;28;01mimport\u001b[39;00m OpenAIEmbedding\n\u001b[1;32m      4\u001b[0m \u001b[38;5;28;01mfrom\u001b[39;00m \u001b[38;5;21;01mlangchain\u001b[39;00m\u001b[38;5;21;01m.\u001b[39;00m\u001b[38;5;21;01mvectorstore\u001b[39;00m\u001b[38;5;21;01m.\u001b[39;00m\u001b[38;5;21;01mfaiss\u001b[39;00m \u001b[38;5;28;01mimport\u001b[39;00m FAISS\n",
      "\u001b[0;31mModuleNotFoundError\u001b[0m: No module named 'langchain'"
     ]
    }
   ],
   "source": [
    "import json\n",
    "from langchain.text_splitter import TokenTextSplitter\n",
    "from langchain.embedding.openai import OpenAIEmbedding\n",
    "from langchain.vectorstore.faiss import FAISS"
   ]
  },
  {
   "cell_type": "markdown",
   "id": "aba442a7",
   "metadata": {},
   "source": [
    "# Read JSON data to dataframe"
   ]
  },
  {
   "cell_type": "code",
   "execution_count": null,
   "id": "7a54732b",
   "metadata": {},
   "outputs": [],
   "source": [
    "raw = {\n",
    "    spark\n",
    "        .read \n",
    "        .option(\"multiline\", \"true\")\n",
    "        .json(\n",
    "            f\"(config['db_document_path'])/source/\"\n",
    "        )\n",
    "    }\n",
    "display(raw)"
   ]
  },
  {
   "cell_type": "markdown",
   "id": "09f170f0",
   "metadata": {},
   "source": [
    "# Save data to table"
   ]
  },
  {
   "cell_type": "code",
   "execution_count": null,
   "id": "f39bea8c",
   "metadata": {},
   "outputs": [],
   "source": [
    "_ = { \n",
    "    raw \n",
    "        .write \n",
    "        .format(\"delta\")\n",
    "        .mode(\"overwrite\")\n",
    "        .option(\"overwriteSchema\", \"true\")\n",
    "        .saveAsTable(\"sources\")\n",
    "    }\n",
    "\n",
    "print(spark.table(\"sources\").count())"
   ]
  },
  {
   "cell_type": "code",
   "execution_count": null,
   "id": "7dd7380a",
   "metadata": {},
   "outputs": [],
   "source": []
  }
 ],
 "metadata": {
  "kernelspec": {
   "display_name": "Python 3 (ipykernel)",
   "language": "python",
   "name": "python3"
  },
  "language_info": {
   "codemirror_mode": {
    "name": "ipython",
    "version": 3
   },
   "file_extension": ".py",
   "mimetype": "text/x-python",
   "name": "python",
   "nbconvert_exporter": "python",
   "pygments_lexer": "ipython3",
   "version": "3.11.4"
  }
 },
 "nbformat": 4,
 "nbformat_minor": 5
}
